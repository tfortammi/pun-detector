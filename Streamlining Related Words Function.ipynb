{
 "cells": [
  {
   "cell_type": "markdown",
   "metadata": {},
   "source": [
    "# Streamlining Related Words Function\n",
    "\n",
    "Intuition:\n",
    "One telling feature of a pun is ambiguity that often comes from the presence of double meanings that are vastly different.\n",
    "\n",
    "---\n",
    "\n",
    "For example,\n",
    "\"My **phone** has had to wear **glasses** ever since it lost its **contacts**.\"\n",
    "\n",
    "Here, the wordplay comes from the meaning of **contacts**:\n",
    "* \"a replacement for prescription glasses\" and\n",
    "* \"communication details often found in your phone\"\n",
    "\n",
    "These two meanings are distinctly different, but are related to the word phone. \n",
    "\n",
    "---\n",
    "\n",
    "Anecdotes to work on:\n",
    "\n",
    "* My phone has had to wear glasses ever since it lost its contacts.\n",
    "* Going to bed with music on gave him sound sleep.\n",
    "* If you wear cowboy clothes are you ranch dressing?\n",
    "* A doctor broke his leg while auditioning for a play.Luckily he still made the cast."
   ]
  },
  {
   "cell_type": "markdown",
   "metadata": {},
   "source": [
    "## Current Function:"
   ]
  },
  {
   "cell_type": "code",
   "execution_count": null,
   "metadata": {},
   "outputs": [],
   "source": [
    "# First, importing relevant packages, etc\n",
    "\n",
    "import codecs\n",
    "nltk.download('stopwords')\n",
    "nltk.download('punkt')\n",
    "from nltk.tokenize import PunktSentenceTokenizer,sent_tokenize, word_tokenize\n",
    "from nltk.corpus import stopwords, wordnet\n",
    "from nltk.stem import WordNetLemmatizer, PorterStemmer\n",
    "import re\n",
    "\n",
    "# Defin\n",
    "\n",
    "def simpleFilter(sentence):\n",
    "    \n",
    "    '''This function filters out stopwords, lemmatizes, tokenizes, and \n",
    "    strips punctuation from the input sentence and returns the a list of \n",
    "    filtered tokens'''\n",
    "    \n",
    "    filtered_sent = []\n",
    "    \n",
    "    # Strip punctuation\n",
    "    stripped = re.sub(\"[(.)',=?!#@]\", '', sentence)\n",
    "        \n",
    "    # filter out stopwords \n",
    "    stop_words = set(stopwords.words(\"english\"))\n",
    "    \n",
    "    # Tokenize\n",
    "    words = word_tokenize(stripped)\n",
    "    \n",
    "    # Lemmatize and Filter out Stopwords\n",
    "    lemmatizer = WordNetLemmatizer()\n",
    "    for w in words:\n",
    "        if w not in stop_words:\n",
    "            filtered_sent.append(lemmatizer.lemmatize(w))\n",
    "\n",
    "    return filtered_sent"
   ]
  },
  {
   "cell_type": "code",
   "execution_count": null,
   "metadata": {},
   "outputs": [],
   "source": []
  }
 ],
 "metadata": {
  "kernelspec": {
   "display_name": "Python 3",
   "language": "python",
   "name": "python3"
  },
  "language_info": {
   "codemirror_mode": {
    "name": "ipython",
    "version": 3
   },
   "file_extension": ".py",
   "mimetype": "text/x-python",
   "name": "python",
   "nbconvert_exporter": "python",
   "pygments_lexer": "ipython3",
   "version": "3.6.5"
  }
 },
 "nbformat": 4,
 "nbformat_minor": 2
}
